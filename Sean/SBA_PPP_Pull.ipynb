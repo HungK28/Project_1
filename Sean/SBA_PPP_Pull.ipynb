{
 "cells": [
  {
   "cell_type": "code",
   "execution_count": 2,
   "source": [
    "#This goes to the SBA website and gets the CSV file address for the loans that contain California PPP data. The CSV for 150K contains all states. \r\n",
    "# The CSV for up to 150k are organized in alphabetical order with 1 and 2 containing California Data\r\n",
    "#https://data.sba.gov/dataset/ppp-foia\r\n",
    "import pandas as pd\r\n",
    "import matplotlib.pyplot as plt\r\n",
    "import numpy as np\r\n",
    "\r\n",
    "public_150k_plus_210630 = 'https://data.sba.gov/dataset/8aa276e2-6cab-4f86-aca4-a7dde42adf24/resource/be89502c-1961-4a79-a44c-979eb3f411a8/download/public_150k_plus_210630.csv'\r\n",
    "public_up_to_150k_1_210630 = 'https://data.sba.gov/dataset/8aa276e2-6cab-4f86-aca4-a7dde42adf24/resource/e796a768-4785-46c1-98a7-8bd3a1ef0ab9/download/public_up_to_150k_1_210630.csv'\r\n",
    "public_up_to_150k_2_210630 = 'https://data.sba.gov/dataset/8aa276e2-6cab-4f86-aca4-a7dde42adf24/resource/962261d5-bd48-469f-8977-4f516e686e45/download/public_up_to_150k_2_210630.csv'\r\n",
    "\r\n",
    "\r\n"
   ],
   "outputs": [],
   "metadata": {}
  },
  {
   "cell_type": "code",
   "execution_count": 3,
   "source": [
    "#Reads the 150K plus CSV and creates a data frame with only CA loans \r\n",
    "public_150k_plus_210630_df=pd.read_csv(public_150k_plus_210630)\r\n",
    "public_150k_plus_210630_df=public_150k_plus_210630_df.loc[public_150k_plus_210630_df['BorrowerState']=='CA']\r\n",
    "len(public_150k_plus_210630_df)"
   ],
   "outputs": [
    {
     "output_type": "execute_result",
     "data": {
      "text/plain": [
       "130921"
      ]
     },
     "metadata": {},
     "execution_count": 3
    }
   ],
   "metadata": {}
  },
  {
   "cell_type": "code",
   "execution_count": 4,
   "source": [
    "#Reads the up to 150K 1 CSV and creates a data frame with only CA loans\r\n",
    "public_up_to_150k_1_210630_df=pd.read_csv(public_up_to_150k_1_210630)\r\n",
    "public_up_to_150k_1_210630_df=public_up_to_150k_1_210630_df.loc[public_up_to_150k_1_210630_df['BorrowerState']=='CA']\r\n",
    "len(public_up_to_150k_1_210630_df)"
   ],
   "outputs": [
    {
     "output_type": "execute_result",
     "data": {
      "text/plain": [
       "457414"
      ]
     },
     "metadata": {},
     "execution_count": 4
    }
   ],
   "metadata": {}
  },
  {
   "cell_type": "code",
   "execution_count": 5,
   "source": [
    "#Reads the up to 150K 2 CSV and creates a data frame with only CA loans\r\n",
    "public_up_to_150k_2_210630_df=pd.read_csv(public_up_to_150k_2_210630)\r\n",
    "public_up_to_150k_2_210630_df=public_up_to_150k_2_210630_df.loc[public_up_to_150k_2_210630_df['BorrowerState']=='CA']\r\n",
    "len(public_up_to_150k_2_210630_df)\r\n"
   ],
   "outputs": [
    {
     "output_type": "execute_result",
     "data": {
      "text/plain": [
       "713906"
      ]
     },
     "metadata": {},
     "execution_count": 5
    }
   ],
   "metadata": {}
  },
  {
   "cell_type": "code",
   "execution_count": 6,
   "source": [
    "#Merges the data from the 3 CSVs into 1 California Data Frame and outputs the CSV file\r\n",
    "California_df = pd.concat([public_150k_plus_210630_df,public_up_to_150k_1_210630_df,public_up_to_150k_2_210630_df])\r\n"
   ],
   "outputs": [],
   "metadata": {}
  },
  {
   "cell_type": "code",
   "execution_count": 8,
   "source": [
    "\r\n",
    "\r\n",
    "list_of_columns = ['LoanNumber','DateApproved','ProcessingMethod','BorrowerName','BorrowerAddress', 'BorrowerCity', 'BorrowerState',\r\n",
    "       'BorrowerZip','CurrentApprovalAmount','RuralUrbanIndicator', 'HubzoneIndicator',\r\n",
    "       'LMIIndicator','ProjectCountyName','JobsReported',\r\n",
    "       'NAICSCode', 'Race','PAYROLL_PROCEED','BusinessType','OriginatingLender', 'OriginatingLenderCity', 'OriginatingLenderState',\r\n",
    "       'Gender', 'Veteran']\r\n",
    "California_df = California_df[list_of_columns]\r\n",
    "California_df.columns"
   ],
   "outputs": [
    {
     "output_type": "execute_result",
     "data": {
      "text/plain": [
       "Index(['LoanNumber', 'DateApproved', 'ProcessingMethod', 'BorrowerName',\n",
       "       'BorrowerAddress', 'BorrowerCity', 'BorrowerState', 'BorrowerZip',\n",
       "       'CurrentApprovalAmount', 'RuralUrbanIndicator', 'HubzoneIndicator',\n",
       "       'LMIIndicator', 'ProjectCountyName', 'JobsReported', 'NAICSCode',\n",
       "       'Race', 'PAYROLL_PROCEED', 'BusinessType', 'OriginatingLender',\n",
       "       'OriginatingLenderCity', 'OriginatingLenderState', 'Gender', 'Veteran'],\n",
       "      dtype='object')"
      ]
     },
     "metadata": {},
     "execution_count": 8
    }
   ],
   "metadata": {}
  },
  {
   "cell_type": "code",
   "execution_count": 9,
   "source": [
    "California_df.to_csv(\"California_PPP.csv\", encoding=\"utf-8\", index=False, header=True)\r\n",
    "len(California_df)"
   ],
   "outputs": [
    {
     "output_type": "execute_result",
     "data": {
      "text/plain": [
       "1302241"
      ]
     },
     "metadata": {},
     "execution_count": 9
    }
   ],
   "metadata": {}
  }
 ],
 "metadata": {
  "interpreter": {
   "hash": "4881f5eacd7088bcf5a836f9e344288743d588393de6dc96f82d4b26fa31d287"
  },
  "kernelspec": {
   "name": "python3",
   "display_name": "Python 3.8.8 64-bit ('base': conda)"
  },
  "language_info": {
   "codemirror_mode": {
    "name": "ipython",
    "version": 3
   },
   "file_extension": ".py",
   "mimetype": "text/x-python",
   "name": "python",
   "nbconvert_exporter": "python",
   "pygments_lexer": "ipython3",
   "version": "3.8.8"
  }
 },
 "nbformat": 4,
 "nbformat_minor": 2
}