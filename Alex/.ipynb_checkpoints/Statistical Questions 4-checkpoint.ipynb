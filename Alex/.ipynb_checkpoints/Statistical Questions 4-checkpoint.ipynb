{
 "cells": [
  {
   "cell_type": "code",
   "execution_count": 1,
   "id": "d02288e8",
   "metadata": {},
   "outputs": [],
   "source": [
    "#Question 4: What is the relationship between \n",
    "# size of the loan and number of employees on the payroll?\n"
   ]
  },
  {
   "cell_type": "code",
   "execution_count": 2,
   "id": "b1f818eb",
   "metadata": {},
   "outputs": [],
   "source": [
    "#Dependencies\n",
    "import matplotlib.pyplot as plt\n",
    "import pandas as pd\n",
    "import numpy as np\n",
    "import requests\n",
    "import time\n",
    "import scipy.stats as st\n",
    "from scipy.stats import linregress\n",
    "from scipy import stats\n",
    "import json"
   ]
  },
  {
   "cell_type": "code",
   "execution_count": 3,
   "id": "fa64b275",
   "metadata": {},
   "outputs": [
    {
     "data": {
      "text/html": [
       "<div>\n",
       "<style scoped>\n",
       "    .dataframe tbody tr th:only-of-type {\n",
       "        vertical-align: middle;\n",
       "    }\n",
       "\n",
       "    .dataframe tbody tr th {\n",
       "        vertical-align: top;\n",
       "    }\n",
       "\n",
       "    .dataframe thead th {\n",
       "        text-align: right;\n",
       "    }\n",
       "</style>\n",
       "<table border=\"1\" class=\"dataframe\">\n",
       "  <thead>\n",
       "    <tr style=\"text-align: right;\">\n",
       "      <th></th>\n",
       "      <th>LoanNumber</th>\n",
       "      <th>DateApproved</th>\n",
       "      <th>ProcessingMethod</th>\n",
       "      <th>BorrowerName</th>\n",
       "      <th>BorrowerAddress</th>\n",
       "      <th>BorrowerCity</th>\n",
       "      <th>BorrowerState</th>\n",
       "      <th>BorrowerZip</th>\n",
       "      <th>CurrentApprovalAmount</th>\n",
       "      <th>RuralUrbanIndicator</th>\n",
       "      <th>...</th>\n",
       "      <th>JobsReported</th>\n",
       "      <th>NAICSCode</th>\n",
       "      <th>Race</th>\n",
       "      <th>PAYROLL_PROCEED</th>\n",
       "      <th>BusinessType</th>\n",
       "      <th>OriginatingLender</th>\n",
       "      <th>OriginatingLenderCity</th>\n",
       "      <th>OriginatingLenderState</th>\n",
       "      <th>Gender</th>\n",
       "      <th>Veteran</th>\n",
       "    </tr>\n",
       "  </thead>\n",
       "  <tbody>\n",
       "    <tr>\n",
       "      <th>0</th>\n",
       "      <td>1048448901</td>\n",
       "      <td>04/24/2021</td>\n",
       "      <td>PPP</td>\n",
       "      <td>HUMANGOOD NORCAL</td>\n",
       "      <td>6120 Stoneridge Mall Rd Ste 300</td>\n",
       "      <td>Pleasanton</td>\n",
       "      <td>CA</td>\n",
       "      <td>94588-3298</td>\n",
       "      <td>10000000.0</td>\n",
       "      <td>U</td>\n",
       "      <td>...</td>\n",
       "      <td>500.0</td>\n",
       "      <td>623311.0</td>\n",
       "      <td>White</td>\n",
       "      <td>9999998.0</td>\n",
       "      <td>Sole Proprietorship</td>\n",
       "      <td>Washington Federal Bank, National Association</td>\n",
       "      <td>SEATTLE</td>\n",
       "      <td>WA</td>\n",
       "      <td>Female Owned</td>\n",
       "      <td>Non-Veteran</td>\n",
       "    </tr>\n",
       "    <tr>\n",
       "      <th>1</th>\n",
       "      <td>1122827105</td>\n",
       "      <td>04/09/2020</td>\n",
       "      <td>PPP</td>\n",
       "      <td>ITO INCORPORATED</td>\n",
       "      <td>431 ISIS AVE</td>\n",
       "      <td>INGLEWOOD</td>\n",
       "      <td>CA</td>\n",
       "      <td>90301-2009</td>\n",
       "      <td>10000000.0</td>\n",
       "      <td>U</td>\n",
       "      <td>...</td>\n",
       "      <td>500.0</td>\n",
       "      <td>722310.0</td>\n",
       "      <td>Asian</td>\n",
       "      <td>9361000.0</td>\n",
       "      <td>Subchapter S Corporation</td>\n",
       "      <td>City National Bank</td>\n",
       "      <td>LOS ANGELES</td>\n",
       "      <td>CA</td>\n",
       "      <td>Male Owned</td>\n",
       "      <td>Non-Veteran</td>\n",
       "    </tr>\n",
       "    <tr>\n",
       "      <th>2</th>\n",
       "      <td>1187837109</td>\n",
       "      <td>04/10/2020</td>\n",
       "      <td>PPP</td>\n",
       "      <td>HAVEN HEALTH GROUP, LLC</td>\n",
       "      <td>31752 COAST HWY, STE 300</td>\n",
       "      <td>LAGUNA BEACH</td>\n",
       "      <td>CA</td>\n",
       "      <td>92651-6782</td>\n",
       "      <td>10000000.0</td>\n",
       "      <td>U</td>\n",
       "      <td>...</td>\n",
       "      <td>500.0</td>\n",
       "      <td>623110.0</td>\n",
       "      <td>White</td>\n",
       "      <td>10000000.0</td>\n",
       "      <td>Limited  Liability Company(LLC)</td>\n",
       "      <td>East West Bank</td>\n",
       "      <td>PASADENA</td>\n",
       "      <td>CA</td>\n",
       "      <td>Male Owned</td>\n",
       "      <td>Non-Veteran</td>\n",
       "    </tr>\n",
       "    <tr>\n",
       "      <th>3</th>\n",
       "      <td>1321898800</td>\n",
       "      <td>04/10/2021</td>\n",
       "      <td>PPP</td>\n",
       "      <td>NORTH EAST MEDICAL SERVICES</td>\n",
       "      <td>2171 Junipero Serra Blvd</td>\n",
       "      <td>Daly City</td>\n",
       "      <td>CA</td>\n",
       "      <td>94014-1906</td>\n",
       "      <td>10000000.0</td>\n",
       "      <td>U</td>\n",
       "      <td>...</td>\n",
       "      <td>205.0</td>\n",
       "      <td>621498.0</td>\n",
       "      <td>Unanswered</td>\n",
       "      <td>10000000.0</td>\n",
       "      <td>501(c)3 – Non Profit</td>\n",
       "      <td>East West Bank</td>\n",
       "      <td>PASADENA</td>\n",
       "      <td>CA</td>\n",
       "      <td>Unanswered</td>\n",
       "      <td>Unanswered</td>\n",
       "    </tr>\n",
       "    <tr>\n",
       "      <th>4</th>\n",
       "      <td>1322998906</td>\n",
       "      <td>04/24/2021</td>\n",
       "      <td>PPP</td>\n",
       "      <td>PACIFIC CLINICS</td>\n",
       "      <td>800 S Santa Anita Ave</td>\n",
       "      <td>Arcadia</td>\n",
       "      <td>CA</td>\n",
       "      <td>91006-3536</td>\n",
       "      <td>10000000.0</td>\n",
       "      <td>U</td>\n",
       "      <td>...</td>\n",
       "      <td>103.0</td>\n",
       "      <td>621420.0</td>\n",
       "      <td>White</td>\n",
       "      <td>9999996.0</td>\n",
       "      <td>Non-Profit Organization</td>\n",
       "      <td>East West Bank</td>\n",
       "      <td>PASADENA</td>\n",
       "      <td>CA</td>\n",
       "      <td>Male Owned</td>\n",
       "      <td>Veteran</td>\n",
       "    </tr>\n",
       "  </tbody>\n",
       "</table>\n",
       "<p>5 rows × 23 columns</p>\n",
       "</div>"
      ],
      "text/plain": [
       "   LoanNumber DateApproved ProcessingMethod                 BorrowerName  \\\n",
       "0  1048448901   04/24/2021              PPP             HUMANGOOD NORCAL   \n",
       "1  1122827105   04/09/2020              PPP             ITO INCORPORATED   \n",
       "2  1187837109   04/10/2020              PPP      HAVEN HEALTH GROUP, LLC   \n",
       "3  1321898800   04/10/2021              PPP  NORTH EAST MEDICAL SERVICES   \n",
       "4  1322998906   04/24/2021              PPP              PACIFIC CLINICS   \n",
       "\n",
       "                   BorrowerAddress  BorrowerCity BorrowerState BorrowerZip  \\\n",
       "0  6120 Stoneridge Mall Rd Ste 300    Pleasanton            CA  94588-3298   \n",
       "1                     431 ISIS AVE     INGLEWOOD            CA  90301-2009   \n",
       "2         31752 COAST HWY, STE 300  LAGUNA BEACH            CA  92651-6782   \n",
       "3         2171 Junipero Serra Blvd     Daly City            CA  94014-1906   \n",
       "4            800 S Santa Anita Ave       Arcadia            CA  91006-3536   \n",
       "\n",
       "   CurrentApprovalAmount RuralUrbanIndicator  ... JobsReported NAICSCode  \\\n",
       "0             10000000.0                   U  ...        500.0  623311.0   \n",
       "1             10000000.0                   U  ...        500.0  722310.0   \n",
       "2             10000000.0                   U  ...        500.0  623110.0   \n",
       "3             10000000.0                   U  ...        205.0  621498.0   \n",
       "4             10000000.0                   U  ...        103.0  621420.0   \n",
       "\n",
       "         Race  PAYROLL_PROCEED                     BusinessType  \\\n",
       "0       White        9999998.0              Sole Proprietorship   \n",
       "1       Asian        9361000.0         Subchapter S Corporation   \n",
       "2       White       10000000.0  Limited  Liability Company(LLC)   \n",
       "3  Unanswered       10000000.0             501(c)3 – Non Profit   \n",
       "4       White        9999996.0          Non-Profit Organization   \n",
       "\n",
       "                               OriginatingLender  OriginatingLenderCity  \\\n",
       "0  Washington Federal Bank, National Association                SEATTLE   \n",
       "1                             City National Bank            LOS ANGELES   \n",
       "2                                 East West Bank               PASADENA   \n",
       "3                                 East West Bank               PASADENA   \n",
       "4                                 East West Bank               PASADENA   \n",
       "\n",
       "  OriginatingLenderState        Gender      Veteran  \n",
       "0                     WA  Female Owned  Non-Veteran  \n",
       "1                     CA    Male Owned  Non-Veteran  \n",
       "2                     CA    Male Owned  Non-Veteran  \n",
       "3                     CA    Unanswered   Unanswered  \n",
       "4                     CA    Male Owned      Veteran  \n",
       "\n",
       "[5 rows x 23 columns]"
      ]
     },
     "execution_count": 3,
     "metadata": {},
     "output_type": "execute_result"
    }
   ],
   "source": [
    "#Read data\n",
    "california_ppp_path = \"../Resources/California_PPP.csv\"\n",
    "\n",
    "ppp_data = pd.read_csv(california_ppp_path)\n",
    "\n",
    "ppp_data.head()"
   ]
  },
  {
   "cell_type": "code",
   "execution_count": 4,
   "id": "8e176ce4",
   "metadata": {},
   "outputs": [
    {
     "data": {
      "text/plain": [
       "Index(['LoanNumber', 'DateApproved', 'ProcessingMethod', 'BorrowerName',\n",
       "       'BorrowerAddress', 'BorrowerCity', 'BorrowerState', 'BorrowerZip',\n",
       "       'CurrentApprovalAmount', 'RuralUrbanIndicator', 'HubzoneIndicator',\n",
       "       'LMIIndicator', 'ProjectCountyName', 'JobsReported', 'NAICSCode',\n",
       "       'Race', 'PAYROLL_PROCEED', 'BusinessType', 'OriginatingLender',\n",
       "       'OriginatingLenderCity', 'OriginatingLenderState', 'Gender', 'Veteran'],\n",
       "      dtype='object')"
      ]
     },
     "execution_count": 4,
     "metadata": {},
     "output_type": "execute_result"
    }
   ],
   "source": [
    "ppp_data.columns"
   ]
  },
  {
   "cell_type": "code",
   "execution_count": 5,
   "id": "101f3259",
   "metadata": {},
   "outputs": [
    {
     "data": {
      "text/html": [
       "<div>\n",
       "<style scoped>\n",
       "    .dataframe tbody tr th:only-of-type {\n",
       "        vertical-align: middle;\n",
       "    }\n",
       "\n",
       "    .dataframe tbody tr th {\n",
       "        vertical-align: top;\n",
       "    }\n",
       "\n",
       "    .dataframe thead th {\n",
       "        text-align: right;\n",
       "    }\n",
       "</style>\n",
       "<table border=\"1\" class=\"dataframe\">\n",
       "  <thead>\n",
       "    <tr style=\"text-align: right;\">\n",
       "      <th></th>\n",
       "      <th>Loan Number Count</th>\n",
       "    </tr>\n",
       "  </thead>\n",
       "  <tbody>\n",
       "    <tr>\n",
       "      <th>0</th>\n",
       "      <td>1302241</td>\n",
       "    </tr>\n",
       "  </tbody>\n",
       "</table>\n",
       "</div>"
      ],
      "text/plain": [
       "   Loan Number Count\n",
       "0            1302241"
      ]
     },
     "execution_count": 5,
     "metadata": {},
     "output_type": "execute_result"
    }
   ],
   "source": [
    "loan_number_count = ppp_data[\"LoanNumber\"].nunique()\n",
    "loan_number_count = pd.DataFrame({\"Loan Number Count\":[loan_number_count]})\n",
    "loan_number_count"
   ]
  },
  {
   "cell_type": "code",
   "execution_count": 6,
   "id": "0d1180d1",
   "metadata": {},
   "outputs": [
    {
     "name": "stdout",
     "output_type": "stream",
     "text": [
      "The correlation between the number of employees and the loan amount recieved is 0.76\n",
      "The r-squared is: 0.575\n"
     ]
    },
    {
     "data": {
      "image/png": "[encoded data removed]",
      "text/plain": [
       "<Figure size 432x288 with 1 Axes>"
      ]
     },
     "metadata": {
      "needs_background": "light"
     },
     "output_type": "display_data"
    }
   ],
   "source": [
    "#Regression\n",
    "correlation = st.pearsonr(ppp_data['JobsReported'],ppp_data['CurrentApprovalAmount'])\n",
    "print(f\"The correlation between the number of employees and the loan amount recieved is {round(correlation[0],2)}\")\n",
    "\n",
    "x_values = ppp_data[\"JobsReported\"]\n",
    "y_values = ppp_data[\"CurrentApprovalAmount\"]\n",
    "\n",
    "(slope,intercept,rvalue,pvalue,stderr)=linregress(x_values,y_values)\n",
    "regress_values=x_values * slope + intercept\n",
    "line_eq=f\"y = {round(slope,2)} x + {round(intercept,2)}\"\n",
    "\n",
    "plt.scatter(x_values,y_values,color=\"b\")\n",
    "plt.plot(x_values,regress_values,\"r-\")\n",
    "plt.annotate(line_eq,(x_values.median(),y_values.median()),fontsize=14,color='red')\n",
    "plt.xlabel(\"Number of Employees\")\n",
    "plt.ylabel(\"Loan Amount\")\n",
    "plt.title(\"Loan Amount vs. Number of Employees\")\n",
    "print(f\"The r-squared is: {round(rvalue**2,3)}\")\n",
    "plt.show()"
   ]
  },
  {
   "cell_type": "code",
   "execution_count": 7,
   "id": "a8b20da3",
   "metadata": {
    "scrolled": true
   },
   "outputs": [
    {
     "data": {
      "text/html": [
       "<div>\n",
       "<style scoped>\n",
       "    .dataframe tbody tr th:only-of-type {\n",
       "        vertical-align: middle;\n",
       "    }\n",
       "\n",
       "    .dataframe tbody tr th {\n",
       "        vertical-align: top;\n",
       "    }\n",
       "\n",
       "    .dataframe thead th {\n",
       "        text-align: right;\n",
       "    }\n",
       "</style>\n",
       "<table border=\"1\" class=\"dataframe\">\n",
       "  <thead>\n",
       "    <tr style=\"text-align: right;\">\n",
       "      <th></th>\n",
       "      <th>Total Count</th>\n",
       "      <th>Percentage of Processes</th>\n",
       "    </tr>\n",
       "  </thead>\n",
       "  <tbody>\n",
       "    <tr>\n",
       "      <th>PPP</th>\n",
       "      <td>946907</td>\n",
       "      <td>72.71%</td>\n",
       "    </tr>\n",
       "    <tr>\n",
       "      <th>PPS</th>\n",
       "      <td>355334</td>\n",
       "      <td>27.29%</td>\n",
       "    </tr>\n",
       "  </tbody>\n",
       "</table>\n",
       "</div>"
      ],
      "text/plain": [
       "     Total Count Percentage of Processes\n",
       "PPP       946907                  72.71%\n",
       "PPS       355334                  27.29%"
      ]
     },
     "execution_count": 7,
     "metadata": {},
     "output_type": "execute_result"
    }
   ],
   "source": [
    "processing_count = ppp_data[\"ProcessingMethod\"].value_counts()\n",
    "processing_percentage=processing_count/ppp_data[\"ProcessingMethod\"].count() * 100\n",
    "processing_summary_df=pd.DataFrame({\"Total Count\": processing_count,\n",
    "                                   \"Percentage of Processes\": processing_percentage})\n",
    "processing_summary_df[\"Percentage of Processes\"]=processing_summary_df[\"Percentage of Processes\"].map(\"{0:.2f}%\".format)\n",
    "processing_summary_df"
   ]
  },
  {
   "cell_type": "code",
   "execution_count": 8,
   "id": "aadd15ae",
   "metadata": {},
   "outputs": [],
   "source": [
    "ppp_df = ppp_data.loc[ppp_data[\"ProcessingMethod\"] == \"PPP\",:]"
   ]
  },
  {
   "cell_type": "code",
   "execution_count": 9,
   "id": "46ef2d9b",
   "metadata": {},
   "outputs": [
    {
     "name": "stdout",
     "output_type": "stream",
     "text": [
      "The correlation between the number of employees and the loan amount recieved is 0.75\n",
      "The r-squared is: 0.564\n"
     ]
    },
    {
     "data": {
      "image/png": "[encoded data removed]",
      "text/plain": [
       "<Figure size 432x288 with 1 Axes>"
      ]
     },
     "metadata": {
      "needs_background": "light"
     },
     "output_type": "display_data"
    }
   ],
   "source": [
    "#Regression\n",
    "correlation = st.pearsonr(ppp_df['JobsReported'],ppp_df['CurrentApprovalAmount'])\n",
    "print(f\"The correlation between the number of employees and the loan amount recieved is {round(correlation[0],2)}\")\n",
    "\n",
    "x_values = ppp_df[\"JobsReported\"]\n",
    "y_values = ppp_df[\"CurrentApprovalAmount\"]\n",
    "\n",
    "(slope,intercept,rvalue,pvalue,stderr)=linregress(x_values,y_values)\n",
    "regress_values=x_values * slope + intercept\n",
    "line_eq=f\"y = {round(slope,2)} x + {round(intercept,2)}\"\n",
    "\n",
    "plt.scatter(x_values,y_values,color=\"b\")\n",
    "plt.plot(x_values,regress_values,\"r-\")\n",
    "plt.annotate(line_eq,(x_values.median(),y_values.median()),fontsize=14,color='red')\n",
    "plt.xlabel(\"Number of Employees\")\n",
    "plt.ylabel(\"Loan Amount\")\n",
    "plt.title(\"Loan Amount vs. Number of Employees\")\n",
    "print(f\"The r-squared is: {round(rvalue**2,3)}\")\n",
    "plt.show()\n",
    "\n"
   ]
  },
  {
   "cell_type": "code",
   "execution_count": 10,
   "id": "117acade",
   "metadata": {},
   "outputs": [],
   "source": [
    "pps_df = ppp_data.loc[ppp_data[\"ProcessingMethod\"] == \"PPS\",:]"
   ]
  },
  {
   "cell_type": "code",
   "execution_count": 11,
   "id": "bc5c5d79",
   "metadata": {},
   "outputs": [
    {
     "name": "stdout",
     "output_type": "stream",
     "text": [
      "The correlation between the number of employees and the loan amount recieved is 0.81\n",
      "The r-squared is: 0.652\n"
     ]
    },
    {
     "data": {
      "image/png": "[encoded data removed]",
      "text/plain": [
       "<Figure size 432x288 with 1 Axes>"
      ]
     },
     "metadata": {
      "needs_background": "light"
     },
     "output_type": "display_data"
    }
   ],
   "source": [
    "correlation = st.pearsonr(pps_df['JobsReported'],pps_df['CurrentApprovalAmount'])\n",
    "print(f\"The correlation between the number of employees and the loan amount recieved is {round(correlation[0],2)}\")\n",
    "\n",
    "x_values = pps_df[\"JobsReported\"]\n",
    "y_values = pps_df[\"CurrentApprovalAmount\"]\n",
    "\n",
    "(slope,intercept,rvalue,pvalue,stderr)=linregress(x_values,y_values)\n",
    "regress_values=x_values * slope + intercept\n",
    "line_eq=f\"y = {round(slope,2)} x + {round(intercept,2)}\"\n",
    "\n",
    "plt.scatter(x_values,y_values,color=\"b\")\n",
    "plt.plot(x_values,regress_values,\"r-\")\n",
    "plt.annotate(line_eq,(x_values.median(),y_values.median()),fontsize=14,color='red')\n",
    "plt.xlabel(\"Number of Employees\")\n",
    "plt.ylabel(\"Loan Amount\")\n",
    "plt.title(\"Loan Amount vs. Number of Employees\")\n",
    "print(f\"The r-squared is: {round(rvalue**2,3)}\")\n",
    "plt.show()\n"
   ]
  },
  {
   "cell_type": "code",
   "execution_count": null,
   "id": "7f1a28cd",
   "metadata": {},
   "outputs": [],
   "source": []
  },
  {
   "cell_type": "code",
   "execution_count": null,
   "id": "523b9fdb",
   "metadata": {},
   "outputs": [],
   "source": []
  }
 ],
 "metadata": {
  "kernelspec": {
   "display_name": "Python 3",
   "language": "python",
   "name": "python3"
  },
  "language_info": {
   "codemirror_mode": {
    "name": "ipython",
    "version": 3
   },
   "file_extension": ".py",
   "mimetype": "text/x-python",
   "name": "python",
   "nbconvert_exporter": "python",
   "pygments_lexer": "ipython3",
   "version": "3.8.8"
  }
 },
 "nbformat": 4,
 "nbformat_minor": 5
}
