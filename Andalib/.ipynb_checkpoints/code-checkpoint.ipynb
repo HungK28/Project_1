{
 "cells": [
  {
   "cell_type": "code",
   "execution_count": 2,
   "metadata": {},
   "outputs": [],
   "source": [
    "import pandas as pd\n",
    "import numpy as np\n",
    "import matplotlib.pyplot as plt"
   ]
  },
  {
   "cell_type": "code",
   "execution_count": 3,
   "metadata": {},
   "outputs": [],
   "source": [
    "path = \"../Resources/California_PPP.csv\""
   ]
  },
  {
   "cell_type": "code",
   "execution_count": 4,
   "metadata": {},
   "outputs": [],
   "source": [
    "data = pd.read_csv(path)"
   ]
  },
  {
   "cell_type": "code",
   "execution_count": 5,
   "metadata": {},
   "outputs": [
    {
     "data": {
      "text/html": [
       "<div>\n",
       "<style scoped>\n",
       "    .dataframe tbody tr th:only-of-type {\n",
       "        vertical-align: middle;\n",
       "    }\n",
       "\n",
       "    .dataframe tbody tr th {\n",
       "        vertical-align: top;\n",
       "    }\n",
       "\n",
       "    .dataframe thead th {\n",
       "        text-align: right;\n",
       "    }\n",
       "</style>\n",
       "<table border=\"1\" class=\"dataframe\">\n",
       "  <thead>\n",
       "    <tr style=\"text-align: right;\">\n",
       "      <th></th>\n",
       "      <th>LoanNumber</th>\n",
       "      <th>DateApproved</th>\n",
       "      <th>ProcessingMethod</th>\n",
       "      <th>BorrowerName</th>\n",
       "      <th>BorrowerAddress</th>\n",
       "      <th>BorrowerCity</th>\n",
       "      <th>BorrowerState</th>\n",
       "      <th>BorrowerZip</th>\n",
       "      <th>CurrentApprovalAmount</th>\n",
       "      <th>RuralUrbanIndicator</th>\n",
       "      <th>...</th>\n",
       "      <th>JobsReported</th>\n",
       "      <th>NAICSCode</th>\n",
       "      <th>Race</th>\n",
       "      <th>PAYROLL_PROCEED</th>\n",
       "      <th>BusinessType</th>\n",
       "      <th>OriginatingLender</th>\n",
       "      <th>OriginatingLenderCity</th>\n",
       "      <th>OriginatingLenderState</th>\n",
       "      <th>Gender</th>\n",
       "      <th>Veteran</th>\n",
       "    </tr>\n",
       "  </thead>\n",
       "  <tbody>\n",
       "    <tr>\n",
       "      <th>0</th>\n",
       "      <td>1048448901</td>\n",
       "      <td>04/24/2021</td>\n",
       "      <td>PPP</td>\n",
       "      <td>HUMANGOOD NORCAL</td>\n",
       "      <td>6120 Stoneridge Mall Rd Ste 300</td>\n",
       "      <td>Pleasanton</td>\n",
       "      <td>CA</td>\n",
       "      <td>94588-3298</td>\n",
       "      <td>10000000.0</td>\n",
       "      <td>U</td>\n",
       "      <td>...</td>\n",
       "      <td>500.0</td>\n",
       "      <td>623311.0</td>\n",
       "      <td>White</td>\n",
       "      <td>9999998.0</td>\n",
       "      <td>Sole Proprietorship</td>\n",
       "      <td>Washington Federal Bank, National Association</td>\n",
       "      <td>SEATTLE</td>\n",
       "      <td>WA</td>\n",
       "      <td>Female Owned</td>\n",
       "      <td>Non-Veteran</td>\n",
       "    </tr>\n",
       "    <tr>\n",
       "      <th>1</th>\n",
       "      <td>1122827105</td>\n",
       "      <td>04/09/2020</td>\n",
       "      <td>PPP</td>\n",
       "      <td>ITO INCORPORATED</td>\n",
       "      <td>431 ISIS AVE</td>\n",
       "      <td>INGLEWOOD</td>\n",
       "      <td>CA</td>\n",
       "      <td>90301-2009</td>\n",
       "      <td>10000000.0</td>\n",
       "      <td>U</td>\n",
       "      <td>...</td>\n",
       "      <td>500.0</td>\n",
       "      <td>722310.0</td>\n",
       "      <td>Asian</td>\n",
       "      <td>9361000.0</td>\n",
       "      <td>Subchapter S Corporation</td>\n",
       "      <td>City National Bank</td>\n",
       "      <td>LOS ANGELES</td>\n",
       "      <td>CA</td>\n",
       "      <td>Male Owned</td>\n",
       "      <td>Non-Veteran</td>\n",
       "    </tr>\n",
       "    <tr>\n",
       "      <th>2</th>\n",
       "      <td>1187837109</td>\n",
       "      <td>04/10/2020</td>\n",
       "      <td>PPP</td>\n",
       "      <td>HAVEN HEALTH GROUP, LLC</td>\n",
       "      <td>31752 COAST HWY, STE 300</td>\n",
       "      <td>LAGUNA BEACH</td>\n",
       "      <td>CA</td>\n",
       "      <td>92651-6782</td>\n",
       "      <td>10000000.0</td>\n",
       "      <td>U</td>\n",
       "      <td>...</td>\n",
       "      <td>500.0</td>\n",
       "      <td>623110.0</td>\n",
       "      <td>White</td>\n",
       "      <td>10000000.0</td>\n",
       "      <td>Limited  Liability Company(LLC)</td>\n",
       "      <td>East West Bank</td>\n",
       "      <td>PASADENA</td>\n",
       "      <td>CA</td>\n",
       "      <td>Male Owned</td>\n",
       "      <td>Non-Veteran</td>\n",
       "    </tr>\n",
       "    <tr>\n",
       "      <th>3</th>\n",
       "      <td>1321898800</td>\n",
       "      <td>04/10/2021</td>\n",
       "      <td>PPP</td>\n",
       "      <td>NORTH EAST MEDICAL SERVICES</td>\n",
       "      <td>2171 Junipero Serra Blvd</td>\n",
       "      <td>Daly City</td>\n",
       "      <td>CA</td>\n",
       "      <td>94014-1906</td>\n",
       "      <td>10000000.0</td>\n",
       "      <td>U</td>\n",
       "      <td>...</td>\n",
       "      <td>205.0</td>\n",
       "      <td>621498.0</td>\n",
       "      <td>Unanswered</td>\n",
       "      <td>10000000.0</td>\n",
       "      <td>501(c)3 – Non Profit</td>\n",
       "      <td>East West Bank</td>\n",
       "      <td>PASADENA</td>\n",
       "      <td>CA</td>\n",
       "      <td>Unanswered</td>\n",
       "      <td>Unanswered</td>\n",
       "    </tr>\n",
       "    <tr>\n",
       "      <th>4</th>\n",
       "      <td>1322998906</td>\n",
       "      <td>04/24/2021</td>\n",
       "      <td>PPP</td>\n",
       "      <td>PACIFIC CLINICS</td>\n",
       "      <td>800 S Santa Anita Ave</td>\n",
       "      <td>Arcadia</td>\n",
       "      <td>CA</td>\n",
       "      <td>91006-3536</td>\n",
       "      <td>10000000.0</td>\n",
       "      <td>U</td>\n",
       "      <td>...</td>\n",
       "      <td>103.0</td>\n",
       "      <td>621420.0</td>\n",
       "      <td>White</td>\n",
       "      <td>9999996.0</td>\n",
       "      <td>Non-Profit Organization</td>\n",
       "      <td>East West Bank</td>\n",
       "      <td>PASADENA</td>\n",
       "      <td>CA</td>\n",
       "      <td>Male Owned</td>\n",
       "      <td>Veteran</td>\n",
       "    </tr>\n",
       "  </tbody>\n",
       "</table>\n",
       "<p>5 rows × 23 columns</p>\n",
       "</div>"
      ],
      "text/plain": [
       "   LoanNumber DateApproved ProcessingMethod                 BorrowerName  \\\n",
       "0  1048448901   04/24/2021              PPP             HUMANGOOD NORCAL   \n",
       "1  1122827105   04/09/2020              PPP             ITO INCORPORATED   \n",
       "2  1187837109   04/10/2020              PPP      HAVEN HEALTH GROUP, LLC   \n",
       "3  1321898800   04/10/2021              PPP  NORTH EAST MEDICAL SERVICES   \n",
       "4  1322998906   04/24/2021              PPP              PACIFIC CLINICS   \n",
       "\n",
       "                   BorrowerAddress  BorrowerCity BorrowerState BorrowerZip  \\\n",
       "0  6120 Stoneridge Mall Rd Ste 300    Pleasanton            CA  94588-3298   \n",
       "1                     431 ISIS AVE     INGLEWOOD            CA  90301-2009   \n",
       "2         31752 COAST HWY, STE 300  LAGUNA BEACH            CA  92651-6782   \n",
       "3         2171 Junipero Serra Blvd     Daly City            CA  94014-1906   \n",
       "4            800 S Santa Anita Ave       Arcadia            CA  91006-3536   \n",
       "\n",
       "   CurrentApprovalAmount RuralUrbanIndicator  ... JobsReported NAICSCode  \\\n",
       "0             10000000.0                   U  ...        500.0  623311.0   \n",
       "1             10000000.0                   U  ...        500.0  722310.0   \n",
       "2             10000000.0                   U  ...        500.0  623110.0   \n",
       "3             10000000.0                   U  ...        205.0  621498.0   \n",
       "4             10000000.0                   U  ...        103.0  621420.0   \n",
       "\n",
       "         Race  PAYROLL_PROCEED                     BusinessType  \\\n",
       "0       White        9999998.0              Sole Proprietorship   \n",
       "1       Asian        9361000.0         Subchapter S Corporation   \n",
       "2       White       10000000.0  Limited  Liability Company(LLC)   \n",
       "3  Unanswered       10000000.0             501(c)3 – Non Profit   \n",
       "4       White        9999996.0          Non-Profit Organization   \n",
       "\n",
       "                               OriginatingLender  OriginatingLenderCity  \\\n",
       "0  Washington Federal Bank, National Association                SEATTLE   \n",
       "1                             City National Bank            LOS ANGELES   \n",
       "2                                 East West Bank               PASADENA   \n",
       "3                                 East West Bank               PASADENA   \n",
       "4                                 East West Bank               PASADENA   \n",
       "\n",
       "  OriginatingLenderState        Gender      Veteran  \n",
       "0                     WA  Female Owned  Non-Veteran  \n",
       "1                     CA    Male Owned  Non-Veteran  \n",
       "2                     CA    Male Owned  Non-Veteran  \n",
       "3                     CA    Unanswered   Unanswered  \n",
       "4                     CA    Male Owned      Veteran  \n",
       "\n",
       "[5 rows x 23 columns]"
      ]
     },
     "execution_count": 5,
     "metadata": {},
     "output_type": "execute_result"
    }
   ],
   "source": [
    "data.head()"
   ]
  },
  {
   "cell_type": "code",
   "execution_count": 6,
   "metadata": {},
   "outputs": [
    {
     "data": {
      "text/plain": [
       "Index(['LoanNumber', 'DateApproved', 'ProcessingMethod', 'BorrowerName',\n",
       "       'BorrowerAddress', 'BorrowerCity', 'BorrowerState', 'BorrowerZip',\n",
       "       'CurrentApprovalAmount', 'RuralUrbanIndicator', 'HubzoneIndicator',\n",
       "       'LMIIndicator', 'ProjectCountyName', 'JobsReported', 'NAICSCode',\n",
       "       'Race', 'PAYROLL_PROCEED', 'BusinessType', 'OriginatingLender',\n",
       "       'OriginatingLenderCity', 'OriginatingLenderState', 'Gender', 'Veteran'],\n",
       "      dtype='object')"
      ]
     },
     "execution_count": 6,
     "metadata": {},
     "output_type": "execute_result"
    }
   ],
   "source": [
    "data.columns"
   ]
  },
  {
   "cell_type": "code",
   "execution_count": 7,
   "metadata": {},
   "outputs": [],
   "source": [
    "data = data.dropna()"
   ]
  },
  {
   "cell_type": "code",
   "execution_count": 8,
   "metadata": {},
   "outputs": [
    {
     "data": {
      "text/plain": [
       "0    62.0\n",
       "1    72.0\n",
       "2    62.0\n",
       "3    62.0\n",
       "4    62.0\n",
       "Name: NAICS, dtype: float64"
      ]
     },
     "execution_count": 8,
     "metadata": {},
     "output_type": "execute_result"
    }
   ],
   "source": [
    "import math\n",
    "\n",
    "def first_two(d):                \n",
    "     return (d // 10 ** (int(math.log(d, 10)) - 1))\n",
    "\n",
    "data['NAICS'] = data['NAICSCode'].apply(first_two)\n",
    "data['NAICS'].head()"
   ]
  },
  {
   "cell_type": "code",
   "execution_count": 9,
   "metadata": {},
   "outputs": [
    {
     "data": {
      "text/plain": [
       "25"
      ]
     },
     "execution_count": 9,
     "metadata": {},
     "output_type": "execute_result"
    }
   ],
   "source": [
    "len(data['NAICS'].unique())"
   ]
  },
  {
   "cell_type": "code",
   "execution_count": null,
   "metadata": {},
   "outputs": [],
   "source": [
    "data['NAICS'].values\n",
    "x_axis = np.arange(len(data['NAICS']))\n",
    "plt.bar(x_axis,data['NAICS'], color='r', alpha=0.5, align=\"center\")\n",
    "print(data['NAICS'].value_counts())"
   ]
  },
  {
   "cell_type": "code",
   "execution_count": 13,
   "metadata": {},
   "outputs": [
    {
     "name": "stdout",
     "output_type": "stream",
     "text": [
      "54.0    176887\n",
      "81.0    171711\n",
      "62.0    129833\n",
      "72.0    100846\n",
      "23.0     89179\n",
      "48.0     83720\n",
      "53.0     62095\n",
      "44.0     59940\n",
      "56.0     59739\n",
      "71.0     53056\n",
      "42.0     48874\n",
      "45.0     39691\n",
      "52.0     33651\n",
      "33.0     30153\n",
      "51.0     28255\n",
      "61.0     25158\n",
      "49.0     17468\n",
      "99.0     17300\n",
      "11.0     16156\n",
      "31.0     15037\n",
      "32.0     10932\n",
      "92.0      3145\n",
      "55.0      1813\n",
      "22.0      1593\n",
      "21.0      1118\n",
      "Name: NAICS, dtype: int64\n"
     ]
    }
   ],
   "source": [
    "print(data['NAICS'].value_counts())"
   ]
  },
  {
   "cell_type": "code",
   "execution_count": 4,
   "metadata": {},
   "outputs": [],
   "source": [
    "industry_data = pd.read_csv(\"NAICS Data.csv\")"
   ]
  },
  {
   "cell_type": "code",
   "execution_count": 5,
   "metadata": {},
   "outputs": [
    {
     "data": {
      "text/html": [
       "<div>\n",
       "<style scoped>\n",
       "    .dataframe tbody tr th:only-of-type {\n",
       "        vertical-align: middle;\n",
       "    }\n",
       "\n",
       "    .dataframe tbody tr th {\n",
       "        vertical-align: top;\n",
       "    }\n",
       "\n",
       "    .dataframe thead th {\n",
       "        text-align: right;\n",
       "    }\n",
       "</style>\n",
       "<table border=\"1\" class=\"dataframe\">\n",
       "  <thead>\n",
       "    <tr style=\"text-align: right;\">\n",
       "      <th></th>\n",
       "      <th>NAICS</th>\n",
       "      <th>Industry</th>\n",
       "      <th>Total Count of Loans</th>\n",
       "    </tr>\n",
       "  </thead>\n",
       "  <tbody>\n",
       "    <tr>\n",
       "      <th>0</th>\n",
       "      <td>54</td>\n",
       "      <td>Professional, Scientific, and Technical Services</td>\n",
       "      <td>176887</td>\n",
       "    </tr>\n",
       "    <tr>\n",
       "      <th>1</th>\n",
       "      <td>81</td>\n",
       "      <td>Other Services (except Public Administration)</td>\n",
       "      <td>171711</td>\n",
       "    </tr>\n",
       "    <tr>\n",
       "      <th>2</th>\n",
       "      <td>62</td>\n",
       "      <td>Health Care and Social Assistance</td>\n",
       "      <td>129833</td>\n",
       "    </tr>\n",
       "    <tr>\n",
       "      <th>3</th>\n",
       "      <td>48</td>\n",
       "      <td>Transportation and Warehousing</td>\n",
       "      <td>101188</td>\n",
       "    </tr>\n",
       "    <tr>\n",
       "      <th>4</th>\n",
       "      <td>72</td>\n",
       "      <td>Accommodation and Food Services</td>\n",
       "      <td>100846</td>\n",
       "    </tr>\n",
       "  </tbody>\n",
       "</table>\n",
       "</div>"
      ],
      "text/plain": [
       "   NAICS                                          Industry  \\\n",
       "0     54  Professional, Scientific, and Technical Services   \n",
       "1     81     Other Services (except Public Administration)   \n",
       "2     62                 Health Care and Social Assistance   \n",
       "3     48                    Transportation and Warehousing   \n",
       "4     72                   Accommodation and Food Services   \n",
       "\n",
       "   Total Count of Loans  \n",
       "0                176887  \n",
       "1                171711  \n",
       "2                129833  \n",
       "3                101188  \n",
       "4                100846  "
      ]
     },
     "execution_count": 5,
     "metadata": {},
     "output_type": "execute_result"
    }
   ],
   "source": [
    "industry_data.head()"
   ]
  },
  {
   "cell_type": "code",
   "execution_count": 16,
   "metadata": {},
   "outputs": [
    {
     "data": {
      "text/plain": [
       "<function matplotlib.pyplot.show(close=None, block=None)>"
      ]
     },
     "execution_count": 16,
     "metadata": {},
     "output_type": "execute_result"
    },
    {
     "data": {
      "image/png": "[encoded data removed]",
      "text/plain": [
       "<Figure size 432x288 with 1 Axes>"
      ]
     },
     "metadata": {
      "needs_background": "light"
     },
     "output_type": "display_data"
    }
   ],
   "source": [
    "plt.bar(industry_data['Industry'],industry_data['Total Count of Loans'], color='r', alpha=0.5, align=\"center\")\n",
    "plt.xticks(rotation = 'vertical')\n",
    "plt.show"
   ]
  },
  {
   "cell_type": "code",
   "execution_count": null,
   "metadata": {},
   "outputs": [],
   "source": []
  }
 ],
 "metadata": {
  "kernelspec": {
   "display_name": "Python 3",
   "language": "python",
   "name": "python3"
  },
  "language_info": {
   "codemirror_mode": {
    "name": "ipython",
    "version": 3
   },
   "file_extension": ".py",
   "mimetype": "text/x-python",
   "name": "python",
   "nbconvert_exporter": "python",
   "pygments_lexer": "ipython3",
   "version": "3.8.5"
  }
 },
 "nbformat": 4,
 "nbformat_minor": 4
}
